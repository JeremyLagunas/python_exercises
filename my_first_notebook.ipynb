{
 "cells": [
  {
   "cell_type": "code",
   "execution_count": 9,
   "id": "11053ae5",
   "metadata": {},
   "outputs": [
    {
     "name": "stdout",
     "output_type": "stream",
     "text": [
      "howdy, y'all\n"
     ]
    }
   ],
   "source": [
    "print(\"howdy, y'all\")"
   ]
  },
  {
   "cell_type": "code",
   "execution_count": 3,
   "id": "bb0fe8e2",
   "metadata": {},
   "outputs": [],
   "source": [
    "greeting = 'howdee doodee'"
   ]
  },
  {
   "cell_type": "code",
   "execution_count": 4,
   "id": "9a31b4dd",
   "metadata": {},
   "outputs": [
    {
     "data": {
      "text/plain": [
       "'howdee doodee'"
      ]
     },
     "execution_count": 4,
     "metadata": {},
     "output_type": "execute_result"
    }
   ],
   "source": [
    "greeting"
   ]
  },
  {
   "cell_type": "code",
   "execution_count": 5,
   "id": "1bda9cae",
   "metadata": {},
   "outputs": [
    {
     "name": "stdout",
     "output_type": "stream",
     "text": [
      "TEST\n"
     ]
    }
   ],
   "source": [
    "print(\"TEST\")"
   ]
  },
  {
   "cell_type": "markdown",
   "id": "dc71f3c2",
   "metadata": {},
   "source": [
    "## command enter runs a cell, but not this cell because this is a comment.\n",
    "## the m key changes a cell to markdown\n",
    "and y changes it to code."
   ]
  }
 ],
 "metadata": {
  "kernelspec": {
   "display_name": "Python 3 (ipykernel)",
   "language": "python",
   "name": "python3"
  },
  "language_info": {
   "codemirror_mode": {
    "name": "ipython",
    "version": 3
   },
   "file_extension": ".py",
   "mimetype": "text/x-python",
   "name": "python",
   "nbconvert_exporter": "python",
   "pygments_lexer": "ipython3",
   "version": "3.9.12"
  }
 },
 "nbformat": 4,
 "nbformat_minor": 5
}
